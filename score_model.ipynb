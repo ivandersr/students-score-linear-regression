{
 "cells": [
  {
   "cell_type": "code",
   "execution_count": null,
   "metadata": {},
   "outputs": [],
   "source": [
    "from sklearn.model_selection import train_test_split\n",
    "from sklearn.linear_model import LinearRegression\n",
    "from scipy.stats import shapiro, kstest, probplot\n",
    "import pandas as pd\n",
    "import seaborn as sns\n",
    "import matplotlib.pyplot as plt\n",
    "from statsmodels.graphics.gofplots import qqplot\n"
   ]
  },
  {
   "cell_type": "markdown",
   "metadata": {},
   "source": [
    "### Carga dos dados"
   ]
  },
  {
   "cell_type": "code",
   "execution_count": null,
   "metadata": {},
   "outputs": [],
   "source": [
    "# Carregar o dataset\n",
    "df_scores = pd.read_csv('./datasets/dataset.csv')"
   ]
  },
  {
   "cell_type": "code",
   "execution_count": null,
   "metadata": {},
   "outputs": [],
   "source": [
    "df_scores.info()"
   ]
  },
  {
   "cell_type": "code",
   "execution_count": null,
   "metadata": {},
   "outputs": [],
   "source": [
    "df_scores.head(10)"
   ]
  },
  {
   "cell_type": "markdown",
   "metadata": {},
   "source": [
    "### EDA"
   ]
  },
  {
   "cell_type": "code",
   "execution_count": null,
   "metadata": {},
   "outputs": [],
   "source": [
    "# Medidas estatísticas das variáveis\n",
    "df_scores.describe()"
   ]
  },
  {
   "cell_type": "code",
   "execution_count": null,
   "metadata": {},
   "outputs": [],
   "source": [
    "# Plot de dispersão\n",
    "sns.scatterplot(data=df_scores, x='horas_estudo', y='pontuacao_teste')"
   ]
  },
  {
   "cell_type": "code",
   "execution_count": null,
   "metadata": {},
   "outputs": [],
   "source": [
    "# Verificar outliers - box plot\n",
    "sns.boxplot(data=df_scores, y='horas_estudo')"
   ]
  },
  {
   "cell_type": "code",
   "execution_count": null,
   "metadata": {},
   "outputs": [],
   "source": [
    "# Verificar outliers - box plot\n",
    "sns.boxplot(data=df_scores, y='pontuacao_teste')"
   ]
  },
  {
   "cell_type": "code",
   "execution_count": null,
   "metadata": {},
   "outputs": [],
   "source": [
    "# Verificar correlação entre horas_estudo e pontuacao_teste - Pearson\n",
    "sns.heatmap(df_scores.corr('pearson'), annot=True)"
   ]
  },
  {
   "cell_type": "code",
   "execution_count": null,
   "metadata": {},
   "outputs": [],
   "source": [
    "# Spearman\n",
    "sns.heatmap(df_scores.corr('spearman'), annot=True)"
   ]
  },
  {
   "cell_type": "code",
   "execution_count": null,
   "metadata": {},
   "outputs": [],
   "source": [
    "# Característica do dataframe em relação à sua distribuição\n",
    "sns.displot(df_scores, x='horas_estudo')"
   ]
  },
  {
   "cell_type": "code",
   "execution_count": null,
   "metadata": {},
   "outputs": [],
   "source": [
    "sns.displot(df_scores, x='pontuacao_teste')"
   ]
  },
  {
   "cell_type": "markdown",
   "metadata": {},
   "source": [
    "### Treinar modelo"
   ]
  },
  {
   "cell_type": "code",
   "execution_count": null,
   "metadata": {},
   "outputs": [],
   "source": [
    "# Divir dados entre treianmento e teste\n",
    "# Quando temos apenas uma feature, precisamos ajustar o shape (normalização)\n",
    "x = df_scores['horas_estudo'].values.reshape(-1, 1)\n",
    "y = df_scores['pontuacao_teste'].values.reshape(-1, 1)\n",
    "\n",
    "x_train, x_test, y_train, y_test = train_test_split(x, y, train_size=0.7, random_state=50)"
   ]
  },
  {
   "cell_type": "code",
   "execution_count": null,
   "metadata": {},
   "outputs": [],
   "source": [
    "# Instanciar o modelo a ser treinado\n",
    "reg_model = LinearRegression()"
   ]
  },
  {
   "cell_type": "code",
   "execution_count": null,
   "metadata": {},
   "outputs": [],
   "source": [
    "# Treinar o modelo\n",
    "reg_model.fit(x_train, y_train)"
   ]
  },
  {
   "cell_type": "code",
   "execution_count": null,
   "metadata": {},
   "outputs": [],
   "source": [
    "# Verificar a equação da reta\n",
    "print(\"y = {:4f}x + {:4f}\".format(reg_model.coef_[0][0], reg_model.intercept_[0]))"
   ]
  },
  {
   "cell_type": "markdown",
   "metadata": {},
   "source": [
    "### Validação do modelo - Métricas"
   ]
  },
  {
   "cell_type": "code",
   "execution_count": null,
   "metadata": {},
   "outputs": [],
   "source": [
    "# Predição dos valores com base no conjunto de teste\n",
    "y_pred = reg_model.predict(x_test)"
   ]
  },
  {
   "cell_type": "code",
   "execution_count": null,
   "metadata": {},
   "outputs": [],
   "source": [
    "# Calcular métrica R-squared ou Coeficiente de Determinação\n",
    "# R2 - Representa a proporção na variação da variável dependente que é explicada pela variável independente\n",
    "from sklearn.metrics import r2_score, mean_absolute_error, mean_squared_error, root_mean_squared_error\n",
    "r2_score(y_test, y_pred)"
   ]
  },
  {
   "cell_type": "code",
   "execution_count": null,
   "metadata": {},
   "outputs": [],
   "source": [
    "# Métrica de erro: Erro médio absoluto (MAE) - mean(y_test - y_pred)\n",
    "# Fácil de interpretar, pois possui a mesma unidade da saída. Menos sensível a outliers\n",
    "mean_absolute_error(y_test, y_pred)"
   ]
  },
  {
   "cell_type": "code",
   "execution_count": null,
   "metadata": {},
   "outputs": [],
   "source": [
    "# Métrica de erro: Erro médio quadrático (MSE) - mean((y_test - y_pred)^2)\n",
    "# Mais sensível a outliers e penaliza grandes errors\n",
    "mean_squared_error(y_test, y_pred)"
   ]
  },
  {
   "cell_type": "code",
   "execution_count": null,
   "metadata": {},
   "outputs": [],
   "source": [
    "# Métrica de erro: Raiz do erro médio quadrático (RMSE)\n",
    "# Sensível a outliers e volta à unidade de saída. Penaliza grandes erros, ao mesmo tempo que é mais fácil de ser analisada\n",
    "root_mean_squared_error(y_test, y_pred)"
   ]
  },
  {
   "cell_type": "code",
   "execution_count": null,
   "metadata": {},
   "outputs": [],
   "source": [
    "# Análise gráfica\n",
    "x_axis = range(len(y_test))\n",
    "plt.figure(figsize=(10,6))\n",
    "sns.scatterplot(x=x_axis, y=y_test.reshape(-1), color='blue', label='Valores reais')\n",
    "sns.scatterplot(x=x_axis, y=y_pred.reshape(-1), color='red', label='Valores preditos')\n",
    "plt.legend()\n",
    "plt.show()"
   ]
  },
  {
   "cell_type": "markdown",
   "metadata": {},
   "source": [
    "### Análise de resíduos"
   ]
  },
  {
   "cell_type": "code",
   "execution_count": null,
   "metadata": {},
   "outputs": [],
   "source": [
    "# Calcular resíduos\n",
    "residual = y_test - y_pred"
   ]
  },
  {
   "cell_type": "code",
   "execution_count": null,
   "metadata": {},
   "outputs": [],
   "source": [
    "# Calcular os resíduos padronizados - Standardization (z score)\n",
    "# z = (x - media) / desvio_padrao\n",
    "from scipy.stats import zscore\n",
    "std_residual = zscore(residual)"
   ]
  },
  {
   "cell_type": "code",
   "execution_count": null,
   "metadata": {},
   "outputs": [],
   "source": [
    "# Verificar linearidade do modelo\n",
    "# Se os resíduos estiverem entre -2 e +2, indica linearidade dos resíduos\n",
    "\n",
    "\n",
    "# Verificar a homogeneidade das variâncias dos resíduos (homocedasticidade)\n",
    "# Se os valores estiverem em torno da reta, temos homocedasticidade, caso contrário \n",
    "# Se tivermos alguma tendência ou padrão nos dados (formam um cone, funil), há heterocedasticidade\n",
    "\n",
    "sns.scatterplot(x=y_pred.reshape(-1), y=std_residual.reshape(-1))\n",
    "plt.axhline(y=0)"
   ]
  },
  {
   "cell_type": "code",
   "execution_count": null,
   "metadata": {},
   "outputs": [],
   "source": [
    "# Avaliar se os resíduos seguem uma distribuição normal\n",
    "# QQ (Quantile-Quantile) plot, que avalia se uma amostra segue uma distribuição normal\n",
    "import pingouin as pg\n",
    "pg.qqplot(std_residual, dist='norm', confidence=0.95)\n",
    "plt.xlabel('Quantis teóricos')\n",
    "plt.ylabel('Resíduos na escala padrão')"
   ]
  },
  {
   "cell_type": "code",
   "execution_count": null,
   "metadata": {},
   "outputs": [],
   "source": [
    "# Teste de normalidade - Shapiro Wilk\n",
    "# H0 - segue distribuição normal\n",
    "# H1 - não segue distribuição normal\n",
    "# Se o p-value > 0.05, seguimos com H0. Caso contrário, rejeitamos H0\n",
    "stat_shapiro, p_value_shapiro = shapiro(residual.reshape(-1))\n",
    "print(\"Estatísticas do teste: {}\\nP-Value: {}\".format(stat_shapiro, p_value_shapiro))"
   ]
  },
  {
   "cell_type": "code",
   "execution_count": null,
   "metadata": {},
   "outputs": [],
   "source": [
    "# Teste de normalidade - Kolmogorov-Smirnov\n",
    "# H0 - segue distribuição normal\n",
    "# H1 - não segue distribuição normal\n",
    "# Se o p-value > 0.05, seguimos com H0. Caso contrário, rejeitamos H0\n",
    "stat_ks, p_value_ks = kstest(residual.reshape(-1), 'norm')\n",
    "print(\"Estatísticas do teste: {}\\nP-Value: {}\".format(stat_ks, p_value_ks))"
   ]
  },
  {
   "cell_type": "markdown",
   "metadata": {},
   "source": [
    "### Predições com o modelo"
   ]
  },
  {
   "cell_type": "code",
   "execution_count": null,
   "metadata": {},
   "outputs": [],
   "source": [
    "# Se eu estudar 30.4 horas, qual a pontuação prevista pelo modelo?\n",
    "reg_model.predict([[30.4]])"
   ]
  },
  {
   "cell_type": "code",
   "execution_count": null,
   "metadata": {},
   "outputs": [],
   "source": [
    "# Se eu preciso de 600 pontos, quantas horas de estudos o modelo prevê como necessárias?\n",
    "x = (600 - reg_model.intercept_[0]) / reg_model.coef_[0][0]\n",
    "print(x)"
   ]
  },
  {
   "cell_type": "markdown",
   "metadata": {},
   "source": [
    "### Exportar modelo"
   ]
  },
  {
   "cell_type": "code",
   "execution_count": null,
   "metadata": {},
   "outputs": [],
   "source": [
    "import joblib\n",
    "joblib.dump(reg_model, './regression_model.pkl')"
   ]
  }
 ],
 "metadata": {
  "kernelspec": {
   "display_name": ".venv",
   "language": "python",
   "name": "python3"
  },
  "language_info": {
   "codemirror_mode": {
    "name": "ipython",
    "version": 3
   },
   "file_extension": ".py",
   "mimetype": "text/x-python",
   "name": "python",
   "nbconvert_exporter": "python",
   "pygments_lexer": "ipython3",
   "version": "3.11.5"
  }
 },
 "nbformat": 4,
 "nbformat_minor": 2
}
